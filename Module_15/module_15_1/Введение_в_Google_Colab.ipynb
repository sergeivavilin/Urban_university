{
  "nbformat": 4,
  "nbformat_minor": 0,
  "metadata": {
    "colab": {
      "provenance": []
    },
    "kernelspec": {
      "name": "python3",
      "display_name": "Python 3"
    },
    "language_info": {
      "name": "python"
    }
  },
  "cells": [
    {
      "cell_type": "markdown",
      "source": [
        "# **Краткое введение в Google Colab**\n",
        "# **Что такое Colab?**\n",
        "\n",
        "Colaboratory, или просто Colab, позволяет писать и выполнять код Python в браузере. При этом:\n",
        "\n",
        "*   не требуется никакой настройки;\n",
        "*   бесплатный доступ к графическим процессорам;\n",
        "*   предоставлять доступ к документам другим людям очень просто.\n",
        "\n",
        "Это отличное решение для студентов, специалистов по обработке данных и исследователей в области искусственного интеллекта.\n",
        "\n",
        "Напишем простую инструкцию и выполним ее:"
      ],
      "metadata": {
        "id": "F6Z0eOSNlu7H"
      }
    },
    {
      "cell_type": "code",
      "execution_count": null,
      "metadata": {
        "colab": {
          "base_uri": "https://localhost:8080/"
        },
        "id": "X2sGnChSlmTI",
        "outputId": "276c4cfa-3f23-4a16-caf1-54ccce20ddd0"
      },
      "outputs": [
        {
          "output_type": "stream",
          "name": "stdout",
          "text": [
            "Hello, Google Colab!\n"
          ]
        }
      ],
      "source": [
        "print(\"Hello, Google Colab!\")"
      ]
    },
    {
      "cell_type": "markdown",
      "source": [
        "Создадим список из 10 случайных чисел:"
      ],
      "metadata": {
        "id": "8BNjhKNult14"
      }
    },
    {
      "cell_type": "code",
      "source": [
        "import random\n",
        "\n",
        "random_list = [random.randint(0, 100) for _ in range(10)]\n",
        "print(random_list)"
      ],
      "metadata": {
        "colab": {
          "base_uri": "https://localhost:8080/"
        },
        "id": "Sz6DgYy-npVq",
        "outputId": "f9b08952-77cc-44ee-c62c-644921608556"
      },
      "execution_count": null,
      "outputs": [
        {
          "output_type": "stream",
          "name": "stdout",
          "text": [
            "[74, 80, 21, 90, 34, 30, 8, 3, 28, 67]\n"
          ]
        }
      ]
    },
    {
      "cell_type": "markdown",
      "source": [
        "Напишем функцию, которая возвращает сумму чисел в списке."
      ],
      "metadata": {
        "id": "pwDXsDyPoaMk"
      }
    },
    {
      "cell_type": "code",
      "source": [
        "def sumarize_numbers(numbers: list[int]) -> int:\n",
        "  return sum(numbers)"
      ],
      "metadata": {
        "id": "nKbz7zuDofWS"
      },
      "execution_count": null,
      "outputs": []
    },
    {
      "cell_type": "markdown",
      "source": [
        "Вызовем функцию и выведите результат на экран."
      ],
      "metadata": {
        "id": "6VDowP5Bo3e3"
      }
    },
    {
      "cell_type": "code",
      "source": [
        "result = sumarize_numbers(random_list)\n",
        "print(\"Список случайных чисел:\", random_list)\n",
        "print(\"Сумма чисел в списке:\", result)"
      ],
      "metadata": {
        "colab": {
          "base_uri": "https://localhost:8080/"
        },
        "id": "3tCSS6mZo2PP",
        "outputId": "c3cec611-650b-408c-c70f-d7d47a82ace8"
      },
      "execution_count": null,
      "outputs": [
        {
          "output_type": "stream",
          "name": "stdout",
          "text": [
            "Список случайных чисел: [74, 80, 21, 90, 34, 30, 8, 3, 28, 67]\n",
            "Сумма чисел в списке: 435\n"
          ]
        }
      ]
    },
    {
      "cell_type": "markdown",
      "source": [
        "# Работа с библиотеками:\n",
        "\n",
        "Устанавливаем библиотеку numpy, если она не установлена\n",
        "Данная библиотека должна быть установлена по умолчанию"
      ],
      "metadata": {
        "id": "HZY6J41YpiYm"
      }
    },
    {
      "cell_type": "code",
      "source": [
        "!pip install numpy"
      ],
      "metadata": {
        "colab": {
          "base_uri": "https://localhost:8080/"
        },
        "id": "9-rFx8xippfs",
        "outputId": "62d72b15-59ba-4704-c24a-fcd2a5cccffb"
      },
      "execution_count": null,
      "outputs": [
        {
          "output_type": "stream",
          "name": "stdout",
          "text": [
            "Requirement already satisfied: numpy in /usr/local/lib/python3.10/dist-packages (1.26.4)\n"
          ]
        }
      ]
    },
    {
      "cell_type": "markdown",
      "source": [
        "Импортируем библиотеку numpy и создаем массив из 20 случайных чисел."
      ],
      "metadata": {
        "id": "C3jtqrWnqgjI"
      }
    },
    {
      "cell_type": "code",
      "source": [
        "import numpy as np\n",
        "\n",
        "\n",
        "random_array = np.random.randint(0, 100, size=20)"
      ],
      "metadata": {
        "id": "d9xvkLHIqlqz"
      },
      "execution_count": null,
      "outputs": []
    },
    {
      "cell_type": "markdown",
      "source": [
        "Вычислим среднее значение массива и выведем его на экран."
      ],
      "metadata": {
        "id": "9_6Bo5jArrig"
      }
    },
    {
      "cell_type": "code",
      "source": [
        "average = np.mean(random_array)\n",
        "print(average)"
      ],
      "metadata": {
        "colab": {
          "base_uri": "https://localhost:8080/"
        },
        "id": "JD-cyRoirwrq",
        "outputId": "5cc637fe-903c-403e-f5cd-8ac62ee4f3c1"
      },
      "execution_count": null,
      "outputs": [
        {
          "output_type": "stream",
          "name": "stdout",
          "text": [
            "54.0\n"
          ]
        }
      ]
    },
    {
      "cell_type": "markdown",
      "source": [
        "# Загрузка данных:"
      ],
      "metadata": {
        "id": "N_D1EqQRsw6i"
      }
    },
    {
      "cell_type": "code",
      "source": [
        "import pandas as pd\n",
        "\n",
        "url = 'https://people.sc.fsu.edu/~jburkardt/data/csv/airtravel.csv'\n",
        "uploaded = pd.read_csv(url)"
      ],
      "metadata": {
        "id": "aVFxlYYgsysA"
      },
      "execution_count": null,
      "outputs": []
    },
    {
      "cell_type": "markdown",
      "source": [
        "Используем библиотеку pandas для чтения CSV файла и выведем первые 5 строк данных."
      ],
      "metadata": {
        "id": "MTIrGhoktcYF"
      }
    },
    {
      "cell_type": "code",
      "source": [
        "# Вывод первых 5 строк данных\n",
        "print(uploaded.head(5))"
      ],
      "metadata": {
        "colab": {
          "base_uri": "https://localhost:8080/"
        },
        "id": "LxFaMAXTthkx",
        "outputId": "a7607462-7b73-4d39-c6d0-ca0abc4ae45d"
      },
      "execution_count": null,
      "outputs": [
        {
          "output_type": "stream",
          "name": "stdout",
          "text": [
            "  Month   \"1958\"   \"1959\"   \"1960\"\n",
            "0   JAN      340      360      417\n",
            "1   FEB      318      342      391\n",
            "2   MAR      362      406      419\n",
            "3   APR      348      396      461\n",
            "4   MAY      363      420      472\n"
          ]
        }
      ]
    },
    {
      "cell_type": "markdown",
      "source": [
        "# Визуализация данных:\n",
        "\n",
        "Установим библиотеку matplotlib (если она не установлена):"
      ],
      "metadata": {
        "id": "J1bsBl1Au2Bl"
      }
    },
    {
      "cell_type": "code",
      "source": [
        "!pip install matplotlib"
      ],
      "metadata": {
        "colab": {
          "base_uri": "https://localhost:8080/"
        },
        "id": "MORtvnPlu4CU",
        "outputId": "d3b81c58-c0b8-4ec9-83aa-2c3d42bd2562"
      },
      "execution_count": null,
      "outputs": [
        {
          "output_type": "stream",
          "name": "stdout",
          "text": [
            "Requirement already satisfied: matplotlib in /usr/local/lib/python3.10/dist-packages (3.7.1)\n",
            "Requirement already satisfied: contourpy>=1.0.1 in /usr/local/lib/python3.10/dist-packages (from matplotlib) (1.3.0)\n",
            "Requirement already satisfied: cycler>=0.10 in /usr/local/lib/python3.10/dist-packages (from matplotlib) (0.12.1)\n",
            "Requirement already satisfied: fonttools>=4.22.0 in /usr/local/lib/python3.10/dist-packages (from matplotlib) (4.54.1)\n",
            "Requirement already satisfied: kiwisolver>=1.0.1 in /usr/local/lib/python3.10/dist-packages (from matplotlib) (1.4.7)\n",
            "Requirement already satisfied: numpy>=1.20 in /usr/local/lib/python3.10/dist-packages (from matplotlib) (1.26.4)\n",
            "Requirement already satisfied: packaging>=20.0 in /usr/local/lib/python3.10/dist-packages (from matplotlib) (24.1)\n",
            "Requirement already satisfied: pillow>=6.2.0 in /usr/local/lib/python3.10/dist-packages (from matplotlib) (10.4.0)\n",
            "Requirement already satisfied: pyparsing>=2.3.1 in /usr/local/lib/python3.10/dist-packages (from matplotlib) (3.2.0)\n",
            "Requirement already satisfied: python-dateutil>=2.7 in /usr/local/lib/python3.10/dist-packages (from matplotlib) (2.8.2)\n",
            "Requirement already satisfied: six>=1.5 in /usr/local/lib/python3.10/dist-packages (from python-dateutil>=2.7->matplotlib) (1.16.0)\n"
          ]
        }
      ]
    },
    {
      "cell_type": "markdown",
      "source": [
        "Построим простой график на основе данных из CSV файла."
      ],
      "metadata": {
        "id": "VGp8Rlq8vNfk"
      }
    },
    {
      "cell_type": "code",
      "source": [
        "import matplotlib.pyplot as plt\n",
        "\n",
        "\n",
        "plt.plot(uploaded['Month'], uploaded[' \"1958\"'])\n",
        "plt.plot(uploaded['Month'], uploaded[' \"1959\"'])\n",
        "plt.plot(uploaded['Month'], uploaded[' \"1960\"'])\n",
        "plt.title('Количество пассажиров по месяцам ')\n",
        "plt.xlabel('Месяц')\n",
        "plt.ylabel('Количество пассажиров')\n",
        "plt.legend(['1958г.', '1959г.', '1960г.'])\n",
        "plt.grid(True)\n",
        "plt.show()"
      ],
      "metadata": {
        "colab": {
          "base_uri": "https://localhost:8080/",
          "height": 472
        },
        "id": "PCfKmPB8vKZ8",
        "outputId": "4e88fa28-3f64-4ce5-fec4-322b5a2d7e4d"
      },
      "execution_count": null,
      "outputs": [
        {
          "output_type": "display_data",
          "data": {
            "text/plain": [
              "<Figure size 640x480 with 1 Axes>"
            ],
            "image/png": "[encoded data removed]"
          },
          "metadata": {}
        }
      ]
    },
    {
      "cell_type": "markdown",
      "source": [
        "# Использование генетических алгоритмов:\n"
      ],
      "metadata": {
        "id": "dyWLUePJ1w11"
      }
    },
    {
      "cell_type": "code",
      "source": [
        "import random\n",
        "\n",
        "# Количество особей в каждом поколении\n",
        "POPULATION_SIZE = 100\n",
        "\n",
        "# Валидные гены\n",
        "GENES = '''abcdefghijklmnopqrstuvwxyzABCDEFGHIJKLMNOP\n",
        "QRSTUVWXYZ 1234567890, .-;:_!\"#%&/()=?@${[]}'''\n",
        "\n",
        "# Целевая строка для генерации\n",
        "TARGET = \"Lorem ipsum\"\n",
        "\n",
        "class Individual(object):\n",
        "\t'''\n",
        "\tКласс, представляющий отдельную особь (индивида) в популяции\n",
        "\t'''\n",
        "\tdef __init__(self, chromosome):\n",
        "\t\tself.chromosome = chromosome\n",
        "\t\tself.fitness = self.cal_fitness()\n",
        "\n",
        "\t@classmethod\n",
        "\tdef mutated_genes(self):\n",
        "\t\t'''\n",
        "\t\tСоздаем случайные гены для мутации\n",
        "\t\t'''\n",
        "\t\tglobal GENES\n",
        "\t\tgene = random.choice(GENES)\n",
        "\t\treturn gene\n",
        "\n",
        "\t@classmethod\n",
        "\tdef create_gnome(self):\n",
        "\t\t'''\n",
        "\t\tСоздаем хромосому или набор генов\n",
        "\t\t'''\n",
        "\t\tglobal TARGET\n",
        "\t\tgnome_len = len(TARGET)\n",
        "\t\treturn [self.mutated_genes() for _ in range(gnome_len)]\n",
        "\n",
        "\tdef gene_transfer(self, par2):\n",
        "\t\t'''\n",
        "\t\tПередаем гены новому поколению индивидов\n",
        "\t\t'''\n",
        "\n",
        "\t\tchild_chromosome = []\n",
        "\t\tfor gp1, gp2 in zip(self.chromosome, par2.chromosome):\n",
        "\n",
        "\t\t\tprob = random.random()\n",
        "\n",
        "\t\t\t# если вероятность меньше 0,45, берем ген\n",
        "\t\t\t# от родителя 1\n",
        "\t\t\tif prob < 0.45:\n",
        "\t\t\t\tchild_chromosome.append(gp1)\n",
        "\n",
        "\t\t\t# если вероятность между 0.45 и 0.90, берем\n",
        "\t\t\t# ген от родителя 2\n",
        "\t\t\telif prob < 0.90:\n",
        "\t\t\t\tchild_chromosome.append(gp2)\n",
        "\n",
        "\t\t\t# в противном случае берем случайный ген (мутация),\n",
        "\t\t\telse:\n",
        "\t\t\t\tchild_chromosome.append(self.mutated_genes())\n",
        "\n",
        "\n",
        "\t\treturn Individual(child_chromosome)\n",
        "\n",
        "\tdef cal_fitness(self):\n",
        "\t\t'''\n",
        "\t\tРассчитываем показатель соответствия, это количество\n",
        "\t\tсимволов в строке, которые отличаются от целевой\n",
        "\t\tстроки.\n",
        "\t\t'''\n",
        "\t\tglobal TARGET\n",
        "\t\tfitness = 0\n",
        "\t\tfor gs, gt in zip(self.chromosome, TARGET):\n",
        "\t\t\tif gs != gt: fitness+= 1\n",
        "\t\treturn fitness\n",
        "\n",
        "# Driver code\n",
        "def main():\n",
        "\tglobal POPULATION_SIZE\n",
        "\n",
        "\t#Текущее поколение\n",
        "\tgeneration = 1\n",
        "\n",
        "\tfound = False\n",
        "\tpopulation = []\n",
        "\n",
        "\t# Новое поколение\n",
        "\tfor _ in range(POPULATION_SIZE):\n",
        "\t\t\t\tgnome = Individual.create_gnome()\n",
        "\t\t\t\tpopulation.append(Individual(gnome))\n",
        "\n",
        "\twhile not found:\n",
        "\n",
        "\t\t# Отсортируем популяцию в порядке возрастания оценки соответствия целевой функции\n",
        "\t\tpopulation = sorted(population, key = lambda x:x.fitness)\n",
        "\n",
        "\t\t# Если у нас появился индивид, достигший целевой функции\n",
        "\t\t# цикл совершенствования можно прервать\n",
        "\t\tif population[0].fitness <= 0:\n",
        "\t\t\tfound = True\n",
        "\t\t\tbreak\n",
        "\n",
        "\t\t# В противном случае - продолжаем создавать новые поколения\n",
        "\t\tnew_generation = []\n",
        "\n",
        "\t\t# Определяем 10% популяции, наиболее соответствующих целевой фукнции\n",
        "\t\t# чтобы передать их гены будущим поколениям\n",
        "\t\ts = int((10*POPULATION_SIZE)/100)\n",
        "\t\tnew_generation.extend(population[:s])\n",
        "\n",
        "\n",
        "\t\ts = int((90*POPULATION_SIZE)/100)\n",
        "\t\tfor _ in range(s):\n",
        "\t\t\tparent1 = random.choice(population[:50])\n",
        "\t\t\tparent2 = random.choice(population[:50])\n",
        "\t\t\tchild = parent1.gene_transfer(parent2)\n",
        "\t\t\tnew_generation.append(child)\n",
        "\n",
        "\t\tpopulation = new_generation\n",
        "\n",
        "\t\tprint(\"Generation: {}\\tString: {}\\tFitness: {}\".\n",
        "\t\t\tformat(generation,\n",
        "\t\t\t\"\".join(population[0].chromosome),\n",
        "\t\t\tpopulation[0].fitness))\n",
        "\n",
        "\t\tgeneration += 1\n",
        "\n",
        "\n",
        "\tprint(\"Generation: {}\\tString: {}\\tFitness: {}\".\n",
        "\t\tformat(generation,\n",
        "\t\t\"\".join(population[0].chromosome),\n",
        "\t\tpopulation[0].fitness))\n",
        "\n",
        "if __name__ == '__main__':\n",
        "\tmain()\n"
      ],
      "metadata": {
        "colab": {
          "base_uri": "https://localhost:8080/"
        },
        "id": "WW39rF9R1_g2",
        "outputId": "e5d44487-8299-4178-edc6-2dd0dee6b62a"
      },
      "execution_count": null,
      "outputs": [
        {
          "output_type": "stream",
          "name": "stdout",
          "text": [
            "Generation: 1\tString: 2WYG4 2]sAh\tFitness: 9\n",
            "Generation: 2\tString: 2WYG4 2]sAh\tFitness: 9\n",
            "Generation: 3\tString: UUR@m$ius Y\tFitness: 8\n",
            "Generation: 4\tString: UUR@m$ius Y\tFitness: 8\n",
            "Generation: 5\tString: UqrW&kips _\tFitness: 7\n",
            "Generation: 6\tString: UqrW&kips _\tFitness: 7\n",
            "Generation: 7\tString: UqrW&kips _\tFitness: 7\n",
            "Generation: 8\tString: e4r&i ips _\tFitness: 6\n",
            "Generation: 9\tString: e4r&i ips _\tFitness: 6\n",
            "Generation: 10\tString: UoW\n",
            "m ipsTP\tFitness: 5\n",
            "Generation: 11\tString: UoW\n",
            "m ipsTP\tFitness: 5\n",
            "Generation: 12\tString: For\n",
            "f ipsu_\tFitness: 4\n",
            "Generation: 13\tString: For\n",
            "f ipsu_\tFitness: 4\n",
            "Generation: 14\tString: Lorzc ipsu8\tFitness: 3\n",
            "Generation: 15\tString: Lorzc ipsu8\tFitness: 3\n",
            "Generation: 16\tString: Lfrem ipsu_\tFitness: 2\n",
            "Generation: 17\tString: Lfrem ipsu_\tFitness: 2\n",
            "Generation: 18\tString: Lfrem ipsu_\tFitness: 2\n",
            "Generation: 19\tString: Lorem ipsu4\tFitness: 1\n",
            "Generation: 20\tString: Lorem ipsu4\tFitness: 1\n",
            "Generation: 21\tString: Lorem ipsu4\tFitness: 1\n",
            "Generation: 22\tString: Lorem ipsu4\tFitness: 1\n",
            "Generation: 23\tString: Lorem ipsu4\tFitness: 1\n",
            "Generation: 24\tString: Lorem ipsu4\tFitness: 1\n",
            "Generation: 25\tString: Lorem ipsu4\tFitness: 1\n",
            "Generation: 26\tString: Lorem ipsu4\tFitness: 1\n",
            "Generation: 27\tString: Lorem ipsu4\tFitness: 1\n",
            "Generation: 28\tString: Lorem ipsu4\tFitness: 1\n",
            "Generation: 29\tString: Lorem ipsu4\tFitness: 1\n",
            "Generation: 30\tString: Lorem ipsu4\tFitness: 1\n",
            "Generation: 31\tString: Lorem ipsum\tFitness: 0\n"
          ]
        }
      ]
    }
  ]
}