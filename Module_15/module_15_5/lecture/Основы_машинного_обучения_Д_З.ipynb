{
  "nbformat": 4,
  "nbformat_minor": 0,
  "metadata": {
    "colab": {
      "provenance": []
    },
    "kernelspec": {
      "name": "python3",
      "display_name": "Python 3"
    },
    "language_info": {
      "name": "python"
    }
  },
  "cells": [
    {
      "cell_type": "markdown",
      "source": [
        "#Домашнее задание по теме \"Основы машинного обучения\""
      ],
      "metadata": {
        "id": "UJkhiX_WCfIi"
      }
    },
    {
      "cell_type": "markdown",
      "source": [
        "Используйте блокнот \"Подготовка данных\": https://colab.research.google.com/drive/16jdLvrc8UBOJeVTh0vJtfa7mmCw4XeP1?usp=sharing\n",
        "\n",
        "- Сделайте копию блокнота на свой диск.\n",
        "- Изучите весь теоритический материал и выполните весь код.\n",
        "- Сохраните результаты.\n",
        "- Расшарьте блокнот и пришлите ссылку на проверку преподавателю."
      ],
      "metadata": {
        "id": "zrhggOBeCwl6"
      }
    },
    {
      "cell_type": "code",
      "execution_count": null,
      "metadata": {
        "id": "v3IWbUgdCVQg"
      },
      "outputs": [],
      "source": []
    }
  ]
}